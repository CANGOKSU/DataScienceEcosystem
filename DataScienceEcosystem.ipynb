{
 "cells": [
  {
   "cell_type": "markdown",
   "id": "a1fd9251-552b-462d-a456-908189b764eb",
   "metadata": {},
   "source": [
    "# Data Science Tools and Ecosystem\r\n"
   ]
  },
  {
   "cell_type": "markdown",
   "id": "6ff99a92-935a-4dec-b1d1-b1eba06f7828",
   "metadata": {},
   "source": [
    "## Introduction\r\n",
    "In this notebook, Data Science Tools and Ecosystem are summarized.\r\n"
   ]
  },
  {
   "cell_type": "markdown",
   "id": "bc25e284-21f1-4cc7-9bee-915fd4d2b149",
   "metadata": {},
   "source": [
    "## Data Science Languages\n",
    "Some of the popular languages that Data Scientists use are:\n",
    "1. Python\n",
    "2. R\n",
    "3. SQL\n",
    "4. Julia\n",
    "5. Scala\n"
   ]
  },
  {
   "cell_type": "markdown",
   "id": "5dceccc1-bfc3-4852-823e-b7dd3be8e35e",
   "metadata": {},
   "source": [
    "## Data Science Libraries\r\n",
    "Some of the commonly used libraries used by Data Scientists include:\r\n",
    "1. Pandas\r\n",
    "2. NumPy\r\n",
    "3. Matplotlib\r\n",
    "4. Scikit-learn\r\n",
    "5. TensorFlow\r\n",
    "6. Keras\r\n"
   ]
  },
  {
   "cell_type": "markdown",
   "id": "063a28fa-a9a1-4718-aeae-3acd346eee3f",
   "metadata": {},
   "source": [
    "## Data Science Tools\r\n",
    "| Tool           | Description                                         |\r\n",
    "|----------------|-----------------------------------------------------|\r\n",
    "| Jupyter        | Interactive coding and data visualization           |\r\n",
    "| RStudio        | Integrated development environment for R            |\r\n",
    "| Apache Hadoop  | Platform for large-scale data storage and processing|\r\n",
    "| Tableau        | Data visualization and business intelligence tool   |\r\n",
    "| Apache Spark   | Fast and general engine for big data processing     |\r\n"
   ]
  },
  {
   "cell_type": "markdown",
   "id": "4c3b7950-f01e-499e-94e3-2267d9b0917a",
   "metadata": {},
   "source": [
    "### Arithmetic Expression Examples\r\n",
    "Below are a few examples of evaluating arithmetic expressions in Python.\r\n"
   ]
  },
  {
   "cell_type": "code",
   "execution_count": 29,
   "id": "85d14c62-9031-4d01-9c34-5ed1ebae049f",
   "metadata": {},
   "outputs": [
    {
     "data": {
      "text/plain": [
       "17"
      ]
     },
     "execution_count": 29,
     "metadata": {},
     "output_type": "execute_result"
    }
   ],
   "source": [
    "# This is a simple arithmetic expression to multiply then add integers\n",
    "(3*4)+5\n"
   ]
  },
  {
   "cell_type": "code",
   "execution_count": 31,
   "id": "915f7ea3-eea4-449d-acf9-aafebf80f3a0",
   "metadata": {},
   "outputs": [
    {
     "data": {
      "text/plain": [
       "3.3333333333333335"
      ]
     },
     "execution_count": 31,
     "metadata": {},
     "output_type": "execute_result"
    }
   ],
   "source": [
    "# This will convert 200 minutes to hours by dividing by 60\n",
    "minutes = 200\n",
    "hours = minutes / 60\n",
    "hours\n"
   ]
  },
  {
   "cell_type": "markdown",
   "id": "14503f90-d057-4678-a642-b1aa42205401",
   "metadata": {},
   "source": [
    "## Objectives\n",
    "- List popular languages for Data Science\n",
    "- List commonly used libraries in Data Science\n",
    "- List development environment open source tools used in data science\n",
    "- Create markdown cells in Jupyter Notebooks\n",
    "- Share notebooks through GitHub\n"
   ]
  },
  {
   "cell_type": "markdown",
   "id": "07a606c2-8fdb-42e3-8ecd-ba83700fd31e",
   "metadata": {},
   "source": [
    "## Author\n",
    "This notebook was prepared by [YUSUF CAN GOKSU].\n"
   ]
  }
 ],
 "metadata": {
  "kernelspec": {
   "display_name": "Python 3 (ipykernel)",
   "language": "python",
   "name": "python3"
  },
  "language_info": {
   "codemirror_mode": {
    "name": "ipython",
    "version": 3
   },
   "file_extension": ".py",
   "mimetype": "text/x-python",
   "name": "python",
   "nbconvert_exporter": "python",
   "pygments_lexer": "ipython3",
   "version": "3.12.4"
  }
 },
 "nbformat": 4,
 "nbformat_minor": 5
}
